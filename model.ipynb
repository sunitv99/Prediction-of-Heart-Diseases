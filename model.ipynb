{
  "nbformat": 4,
  "nbformat_minor": 0,
  "metadata": {
    "colab": {
      "name": "SC_Expt5",
      "provenance": []
    },
    "kernelspec": {
      "name": "python3",
      "display_name": "Python 3"
    }
  },
  "cells": [
    {
      "cell_type": "code",
      "metadata": {
        "id": "VuyyZZUC6uUQ"
      },
      "source": [
        "import tensorflow as tf\n",
        "from tensorflow import keras\n",
        "import numpy as np"
      ],
      "execution_count": null,
      "outputs": []
    },
    {
      "cell_type": "code",
      "metadata": {
        "id": "KHRN4CdQ61hv",
        "colab": {
          "base_uri": "https://localhost:8080/"
        },
        "outputId": "a14aa5f2-ba24-44f5-f69e-9197a572e131"
      },
      "source": [
        "print(tf.__version__)"
      ],
      "execution_count": null,
      "outputs": [
        {
          "output_type": "stream",
          "text": [
            "2.3.0\n"
          ],
          "name": "stdout"
        }
      ]
    },
    {
      "cell_type": "code",
      "metadata": {
        "id": "oe1TD2Im64KQ"
      },
      "source": [
        "import pandas as pd\n",
        "import seaborn as sns\n",
        "import matplotlib.pyplot as plt\n",
        "%matplotlib inline"
      ],
      "execution_count": null,
      "outputs": []
    },
    {
      "cell_type": "code",
      "metadata": {
        "id": "NwED3wZA7LPT"
      },
      "source": [
        "data = pd.read_csv('https://www.openml.org/data/get_csv/1592290/phpgNaXZe')"
      ],
      "execution_count": null,
      "outputs": []
    },
    {
      "cell_type": "code",
      "metadata": {
        "id": "YFRhVqoZ7WLd"
      },
      "source": [
        "column = ['sbp','tobacco','ldl','adiposity','famhist','type','obesity','alcohol','age','chd']"
      ],
      "execution_count": null,
      "outputs": []
    },
    {
      "cell_type": "code",
      "metadata": {
        "id": "zo8OhtK57aK6"
      },
      "source": [
        "data.columns=column"
      ],
      "execution_count": null,
      "outputs": []
    },
    {
      "cell_type": "code",
      "metadata": {
        "id": "V2BqaeEI7dLF",
        "colab": {
          "base_uri": "https://localhost:8080/",
          "height": 195
        },
        "outputId": "d505b54e-2ca2-42cf-cf17-0cba82df0b20"
      },
      "source": [
        "data.head()"
      ],
      "execution_count": null,
      "outputs": [
        {
          "output_type": "execute_result",
          "data": {
            "text/html": [
              "<div>\n",
              "<style scoped>\n",
              "    .dataframe tbody tr th:only-of-type {\n",
              "        vertical-align: middle;\n",
              "    }\n",
              "\n",
              "    .dataframe tbody tr th {\n",
              "        vertical-align: top;\n",
              "    }\n",
              "\n",
              "    .dataframe thead th {\n",
              "        text-align: right;\n",
              "    }\n",
              "</style>\n",
              "<table border=\"1\" class=\"dataframe\">\n",
              "  <thead>\n",
              "    <tr style=\"text-align: right;\">\n",
              "      <th></th>\n",
              "      <th>sbp</th>\n",
              "      <th>tobacco</th>\n",
              "      <th>ldl</th>\n",
              "      <th>adiposity</th>\n",
              "      <th>famhist</th>\n",
              "      <th>type</th>\n",
              "      <th>obesity</th>\n",
              "      <th>alcohol</th>\n",
              "      <th>age</th>\n",
              "      <th>chd</th>\n",
              "    </tr>\n",
              "  </thead>\n",
              "  <tbody>\n",
              "    <tr>\n",
              "      <th>0</th>\n",
              "      <td>160</td>\n",
              "      <td>12.00</td>\n",
              "      <td>5.73</td>\n",
              "      <td>23.11</td>\n",
              "      <td>1</td>\n",
              "      <td>49</td>\n",
              "      <td>25.30</td>\n",
              "      <td>97.20</td>\n",
              "      <td>52</td>\n",
              "      <td>2</td>\n",
              "    </tr>\n",
              "    <tr>\n",
              "      <th>1</th>\n",
              "      <td>144</td>\n",
              "      <td>0.01</td>\n",
              "      <td>4.41</td>\n",
              "      <td>28.61</td>\n",
              "      <td>2</td>\n",
              "      <td>55</td>\n",
              "      <td>28.87</td>\n",
              "      <td>2.06</td>\n",
              "      <td>63</td>\n",
              "      <td>2</td>\n",
              "    </tr>\n",
              "    <tr>\n",
              "      <th>2</th>\n",
              "      <td>118</td>\n",
              "      <td>0.08</td>\n",
              "      <td>3.48</td>\n",
              "      <td>32.28</td>\n",
              "      <td>1</td>\n",
              "      <td>52</td>\n",
              "      <td>29.14</td>\n",
              "      <td>3.81</td>\n",
              "      <td>46</td>\n",
              "      <td>1</td>\n",
              "    </tr>\n",
              "    <tr>\n",
              "      <th>3</th>\n",
              "      <td>170</td>\n",
              "      <td>7.50</td>\n",
              "      <td>6.41</td>\n",
              "      <td>38.03</td>\n",
              "      <td>1</td>\n",
              "      <td>51</td>\n",
              "      <td>31.99</td>\n",
              "      <td>24.26</td>\n",
              "      <td>58</td>\n",
              "      <td>2</td>\n",
              "    </tr>\n",
              "    <tr>\n",
              "      <th>4</th>\n",
              "      <td>134</td>\n",
              "      <td>13.60</td>\n",
              "      <td>3.50</td>\n",
              "      <td>27.78</td>\n",
              "      <td>1</td>\n",
              "      <td>60</td>\n",
              "      <td>25.99</td>\n",
              "      <td>57.34</td>\n",
              "      <td>49</td>\n",
              "      <td>2</td>\n",
              "    </tr>\n",
              "  </tbody>\n",
              "</table>\n",
              "</div>"
            ],
            "text/plain": [
              "   sbp  tobacco   ldl  adiposity  famhist  type  obesity  alcohol  age  chd\n",
              "0  160    12.00  5.73      23.11        1    49    25.30    97.20   52    2\n",
              "1  144     0.01  4.41      28.61        2    55    28.87     2.06   63    2\n",
              "2  118     0.08  3.48      32.28        1    52    29.14     3.81   46    1\n",
              "3  170     7.50  6.41      38.03        1    51    31.99    24.26   58    2\n",
              "4  134    13.60  3.50      27.78        1    60    25.99    57.34   49    2"
            ]
          },
          "metadata": {
            "tags": []
          },
          "execution_count": 7
        }
      ]
    },
    {
      "cell_type": "code",
      "metadata": {
        "id": "DoHyqSDn7enj",
        "colab": {
          "base_uri": "https://localhost:8080/"
        },
        "outputId": "f5efa0a8-86a1-49e4-b654-0e6f27a0f8dd"
      },
      "source": [
        "data.isnull().sum()"
      ],
      "execution_count": null,
      "outputs": [
        {
          "output_type": "execute_result",
          "data": {
            "text/plain": [
              "sbp          0\n",
              "tobacco      0\n",
              "ldl          0\n",
              "adiposity    0\n",
              "famhist      0\n",
              "type         0\n",
              "obesity      0\n",
              "alcohol      0\n",
              "age          0\n",
              "chd          0\n",
              "dtype: int64"
            ]
          },
          "metadata": {
            "tags": []
          },
          "execution_count": 8
        }
      ]
    },
    {
      "cell_type": "code",
      "metadata": {
        "id": "0w0ibuiT7oNG"
      },
      "source": [
        "from sklearn.preprocessing import LabelEncoder\n",
        "encoder = LabelEncoder()\n",
        "data['famhist']=encoder.fit_transform(data['famhist'])\n",
        "data['chd']=encoder.fit_transform(data['chd'])"
      ],
      "execution_count": null,
      "outputs": []
    },
    {
      "cell_type": "code",
      "metadata": {
        "id": "vNQ5BZ407tgZ",
        "colab": {
          "base_uri": "https://localhost:8080/",
          "height": 195
        },
        "outputId": "bf22ca42-d051-4a7a-ead8-62d42df876b7"
      },
      "source": [
        "data.head()"
      ],
      "execution_count": null,
      "outputs": [
        {
          "output_type": "execute_result",
          "data": {
            "text/html": [
              "<div>\n",
              "<style scoped>\n",
              "    .dataframe tbody tr th:only-of-type {\n",
              "        vertical-align: middle;\n",
              "    }\n",
              "\n",
              "    .dataframe tbody tr th {\n",
              "        vertical-align: top;\n",
              "    }\n",
              "\n",
              "    .dataframe thead th {\n",
              "        text-align: right;\n",
              "    }\n",
              "</style>\n",
              "<table border=\"1\" class=\"dataframe\">\n",
              "  <thead>\n",
              "    <tr style=\"text-align: right;\">\n",
              "      <th></th>\n",
              "      <th>sbp</th>\n",
              "      <th>tobacco</th>\n",
              "      <th>ldl</th>\n",
              "      <th>adiposity</th>\n",
              "      <th>famhist</th>\n",
              "      <th>type</th>\n",
              "      <th>obesity</th>\n",
              "      <th>alcohol</th>\n",
              "      <th>age</th>\n",
              "      <th>chd</th>\n",
              "    </tr>\n",
              "  </thead>\n",
              "  <tbody>\n",
              "    <tr>\n",
              "      <th>0</th>\n",
              "      <td>160</td>\n",
              "      <td>12.00</td>\n",
              "      <td>5.73</td>\n",
              "      <td>23.11</td>\n",
              "      <td>0</td>\n",
              "      <td>49</td>\n",
              "      <td>25.30</td>\n",
              "      <td>97.20</td>\n",
              "      <td>52</td>\n",
              "      <td>1</td>\n",
              "    </tr>\n",
              "    <tr>\n",
              "      <th>1</th>\n",
              "      <td>144</td>\n",
              "      <td>0.01</td>\n",
              "      <td>4.41</td>\n",
              "      <td>28.61</td>\n",
              "      <td>1</td>\n",
              "      <td>55</td>\n",
              "      <td>28.87</td>\n",
              "      <td>2.06</td>\n",
              "      <td>63</td>\n",
              "      <td>1</td>\n",
              "    </tr>\n",
              "    <tr>\n",
              "      <th>2</th>\n",
              "      <td>118</td>\n",
              "      <td>0.08</td>\n",
              "      <td>3.48</td>\n",
              "      <td>32.28</td>\n",
              "      <td>0</td>\n",
              "      <td>52</td>\n",
              "      <td>29.14</td>\n",
              "      <td>3.81</td>\n",
              "      <td>46</td>\n",
              "      <td>0</td>\n",
              "    </tr>\n",
              "    <tr>\n",
              "      <th>3</th>\n",
              "      <td>170</td>\n",
              "      <td>7.50</td>\n",
              "      <td>6.41</td>\n",
              "      <td>38.03</td>\n",
              "      <td>0</td>\n",
              "      <td>51</td>\n",
              "      <td>31.99</td>\n",
              "      <td>24.26</td>\n",
              "      <td>58</td>\n",
              "      <td>1</td>\n",
              "    </tr>\n",
              "    <tr>\n",
              "      <th>4</th>\n",
              "      <td>134</td>\n",
              "      <td>13.60</td>\n",
              "      <td>3.50</td>\n",
              "      <td>27.78</td>\n",
              "      <td>0</td>\n",
              "      <td>60</td>\n",
              "      <td>25.99</td>\n",
              "      <td>57.34</td>\n",
              "      <td>49</td>\n",
              "      <td>1</td>\n",
              "    </tr>\n",
              "  </tbody>\n",
              "</table>\n",
              "</div>"
            ],
            "text/plain": [
              "   sbp  tobacco   ldl  adiposity  famhist  type  obesity  alcohol  age  chd\n",
              "0  160    12.00  5.73      23.11        0    49    25.30    97.20   52    1\n",
              "1  144     0.01  4.41      28.61        1    55    28.87     2.06   63    1\n",
              "2  118     0.08  3.48      32.28        0    52    29.14     3.81   46    0\n",
              "3  170     7.50  6.41      38.03        0    51    31.99    24.26   58    1\n",
              "4  134    13.60  3.50      27.78        0    60    25.99    57.34   49    1"
            ]
          },
          "metadata": {
            "tags": []
          },
          "execution_count": 10
        }
      ]
    },
    {
      "cell_type": "code",
      "metadata": {
        "id": "WUEhqWrq7wMw"
      },
      "source": [
        "from sklearn.preprocessing import MinMaxScaler\n",
        "scale = MinMaxScaler(feature_range =(0,100))\n",
        "\n",
        "# setting scale of max min value for sbp in range of 0-100, normalise\n",
        "data['sbp'] = scale.fit_transform(data['sbp'].values.reshape(-1,1))"
      ],
      "execution_count": null,
      "outputs": []
    },
    {
      "cell_type": "code",
      "metadata": {
        "id": "L21NUpSg7-jv",
        "colab": {
          "base_uri": "https://localhost:8080/",
          "height": 195
        },
        "outputId": "aa2cfa7a-ea42-4917-b339-21f2911c86b3"
      },
      "source": [
        "data.head()"
      ],
      "execution_count": null,
      "outputs": [
        {
          "output_type": "execute_result",
          "data": {
            "text/html": [
              "<div>\n",
              "<style scoped>\n",
              "    .dataframe tbody tr th:only-of-type {\n",
              "        vertical-align: middle;\n",
              "    }\n",
              "\n",
              "    .dataframe tbody tr th {\n",
              "        vertical-align: top;\n",
              "    }\n",
              "\n",
              "    .dataframe thead th {\n",
              "        text-align: right;\n",
              "    }\n",
              "</style>\n",
              "<table border=\"1\" class=\"dataframe\">\n",
              "  <thead>\n",
              "    <tr style=\"text-align: right;\">\n",
              "      <th></th>\n",
              "      <th>sbp</th>\n",
              "      <th>tobacco</th>\n",
              "      <th>ldl</th>\n",
              "      <th>adiposity</th>\n",
              "      <th>famhist</th>\n",
              "      <th>type</th>\n",
              "      <th>obesity</th>\n",
              "      <th>alcohol</th>\n",
              "      <th>age</th>\n",
              "      <th>chd</th>\n",
              "    </tr>\n",
              "  </thead>\n",
              "  <tbody>\n",
              "    <tr>\n",
              "      <th>0</th>\n",
              "      <td>50.427350</td>\n",
              "      <td>12.00</td>\n",
              "      <td>5.73</td>\n",
              "      <td>23.11</td>\n",
              "      <td>0</td>\n",
              "      <td>49</td>\n",
              "      <td>25.30</td>\n",
              "      <td>97.20</td>\n",
              "      <td>52</td>\n",
              "      <td>1</td>\n",
              "    </tr>\n",
              "    <tr>\n",
              "      <th>1</th>\n",
              "      <td>36.752137</td>\n",
              "      <td>0.01</td>\n",
              "      <td>4.41</td>\n",
              "      <td>28.61</td>\n",
              "      <td>1</td>\n",
              "      <td>55</td>\n",
              "      <td>28.87</td>\n",
              "      <td>2.06</td>\n",
              "      <td>63</td>\n",
              "      <td>1</td>\n",
              "    </tr>\n",
              "    <tr>\n",
              "      <th>2</th>\n",
              "      <td>14.529915</td>\n",
              "      <td>0.08</td>\n",
              "      <td>3.48</td>\n",
              "      <td>32.28</td>\n",
              "      <td>0</td>\n",
              "      <td>52</td>\n",
              "      <td>29.14</td>\n",
              "      <td>3.81</td>\n",
              "      <td>46</td>\n",
              "      <td>0</td>\n",
              "    </tr>\n",
              "    <tr>\n",
              "      <th>3</th>\n",
              "      <td>58.974359</td>\n",
              "      <td>7.50</td>\n",
              "      <td>6.41</td>\n",
              "      <td>38.03</td>\n",
              "      <td>0</td>\n",
              "      <td>51</td>\n",
              "      <td>31.99</td>\n",
              "      <td>24.26</td>\n",
              "      <td>58</td>\n",
              "      <td>1</td>\n",
              "    </tr>\n",
              "    <tr>\n",
              "      <th>4</th>\n",
              "      <td>28.205128</td>\n",
              "      <td>13.60</td>\n",
              "      <td>3.50</td>\n",
              "      <td>27.78</td>\n",
              "      <td>0</td>\n",
              "      <td>60</td>\n",
              "      <td>25.99</td>\n",
              "      <td>57.34</td>\n",
              "      <td>49</td>\n",
              "      <td>1</td>\n",
              "    </tr>\n",
              "  </tbody>\n",
              "</table>\n",
              "</div>"
            ],
            "text/plain": [
              "         sbp  tobacco   ldl  adiposity  ...  obesity  alcohol  age  chd\n",
              "0  50.427350    12.00  5.73      23.11  ...    25.30    97.20   52    1\n",
              "1  36.752137     0.01  4.41      28.61  ...    28.87     2.06   63    1\n",
              "2  14.529915     0.08  3.48      32.28  ...    29.14     3.81   46    0\n",
              "3  58.974359     7.50  6.41      38.03  ...    31.99    24.26   58    1\n",
              "4  28.205128    13.60  3.50      27.78  ...    25.99    57.34   49    1\n",
              "\n",
              "[5 rows x 10 columns]"
            ]
          },
          "metadata": {
            "tags": []
          },
          "execution_count": 12
        }
      ]
    },
    {
      "cell_type": "code",
      "metadata": {
        "id": "3YFdUu2H_Z34",
        "colab": {
          "base_uri": "https://localhost:8080/",
          "height": 351
        },
        "outputId": "918de0e9-736f-49cc-afb3-d33004ecd290"
      },
      "source": [
        "data.plot(x='age',y='obesity',kind='scatter',figsize =(10,5))"
      ],
      "execution_count": null,
      "outputs": [
        {
          "output_type": "execute_result",
          "data": {
            "text/plain": [
              "<matplotlib.axes._subplots.AxesSubplot at 0x7f6e5508b6d8>"
            ]
          },
          "metadata": {
            "tags": []
          },
          "execution_count": 13
        },
        {
          "output_type": "display_data",
          "data": {
            "image/png": "[encoded data removed]",
            "text/plain": [
              "<Figure size 720x360 with 1 Axes>"
            ]
          },
          "metadata": {
            "tags": [],
            "needs_background": "light"
          }
        }
      ]
    },
    {
      "cell_type": "code",
      "metadata": {
        "id": "UIX3MX9Z_kxS",
        "colab": {
          "base_uri": "https://localhost:8080/",
          "height": 351
        },
        "outputId": "71a4f7bc-f3a7-40d5-9539-e9fb9c557646"
      },
      "source": [
        "data.plot(x='age',y='tobacco',kind='scatter',figsize =(10,5))"
      ],
      "execution_count": null,
      "outputs": [
        {
          "output_type": "execute_result",
          "data": {
            "text/plain": [
              "<matplotlib.axes._subplots.AxesSubplot at 0x7f6e54fea278>"
            ]
          },
          "metadata": {
            "tags": []
          },
          "execution_count": 14
        },
        {
          "output_type": "display_data",
          "data": {
            "image/png": "[encoded data removed]",
            "text/plain": [
              "<Figure size 720x360 with 1 Axes>"
            ]
          },
          "metadata": {
            "tags": [],
            "needs_background": "light"
          }
        }
      ]
    },
    {
      "cell_type": "code",
      "metadata": {
        "id": "0M6Opi5w_p0M",
        "colab": {
          "base_uri": "https://localhost:8080/",
          "height": 351
        },
        "outputId": "f9994145-b42b-4007-dde1-c924e04b5e53"
      },
      "source": [
        "data.plot(x='age',y='alcohol',kind='scatter',figsize =(10,5))"
      ],
      "execution_count": null,
      "outputs": [
        {
          "output_type": "execute_result",
          "data": {
            "text/plain": [
              "<matplotlib.axes._subplots.AxesSubplot at 0x7f6e54b16fd0>"
            ]
          },
          "metadata": {
            "tags": []
          },
          "execution_count": 15
        },
        {
          "output_type": "display_data",
          "data": {
            "image/png": "[encoded data removed]",
            "text/plain": [
              "<Figure size 720x360 with 1 Axes>"
            ]
          },
          "metadata": {
            "tags": [],
            "needs_background": "light"
          }
        }
      ]
    },
    {
      "cell_type": "code",
      "metadata": {
        "id": "Wz_-lSdh-vyQ"
      },
      "source": [
        "# splitting the data into test and train  having a test size of 20% and 80% train size\n",
        "from sklearn.model_selection import train_test_split\n",
        "col = ['sbp','tobacco','ldl','adiposity','famhist','type','obesity','alcohol','age']\n",
        "X_train, X_test, y_train, y_test = train_test_split(data[col], data['chd'], test_size=0.2, random_state=1234)"
      ],
      "execution_count": null,
      "outputs": []
    },
    {
      "cell_type": "code",
      "metadata": {
        "id": "zRjV4ngT_WTR",
        "colab": {
          "base_uri": "https://localhost:8080/",
          "height": 327
        },
        "outputId": "d9b027f1-3755-430f-e81a-05239922ead4"
      },
      "source": [
        "sns.set()\n",
        "sns.heatmap(X_train.head(10),robust = True)"
      ],
      "execution_count": null,
      "outputs": [
        {
          "output_type": "execute_result",
          "data": {
            "text/plain": [
              "<matplotlib.axes._subplots.AxesSubplot at 0x7f6e54a829b0>"
            ]
          },
          "metadata": {
            "tags": []
          },
          "execution_count": 17
        },
        {
          "output_type": "display_data",
          "data": {
            "image/png": "[encoded data removed]",
            "text/plain": [
              "<Figure size 432x288 with 2 Axes>"
            ]
          },
          "metadata": {
            "tags": []
          }
        }
      ]
    },
    {
      "cell_type": "code",
      "metadata": {
        "id": "dABwVhwC_Xo4"
      },
      "source": [
        "X_all = data[col]\n",
        "y_all = data['chd']"
      ],
      "execution_count": null,
      "outputs": []
    },
    {
      "cell_type": "code",
      "metadata": {
        "id": "Srisa5wwC9kF"
      },
      "source": [
        "from sklearn.metrics import make_scorer, accuracy_score\n",
        "from sklearn.model_selection import GridSearchCV\n",
        "from sklearn.neural_network import MLPClassifier"
      ],
      "execution_count": null,
      "outputs": []
    },
    {
      "cell_type": "code",
      "metadata": {
        "id": "td93m-6AFjUY"
      },
      "source": [
        "ann_clf = MLPClassifier(max_iter=150000)\n",
        "\n",
        "#Parameters\n",
        "parameters = {'solver': ['sgd','lbfgs','adam'],\n",
        "             'alpha':[1e-2,1e-3],\n",
        "             'hidden_layer_sizes':(9,500,500,2),   # 9 input, 500-500 neuron in 2 layers,1 output layer\n",
        "             'random_state': [1]\n",
        "             }"
      ],
      "execution_count": null,
      "outputs": []
    },
    {
      "cell_type": "code",
      "metadata": {
        "id": "4U_2N4SJF_6O"
      },
      "source": [
        "from sklearn.preprocessing import StandardScaler\n",
        "sc = StandardScaler()\n",
        "X_train = sc.fit_transform(X_train)\n",
        "X_test = sc.transform(X_test)\n",
        "\n",
        "# Type of scoring to compare parameter combos \n",
        "acc_scorer = make_scorer(accuracy_score)\n",
        "\n",
        "# Run grid search \n",
        "grid_obj = GridSearchCV(ann_clf, parameters, scoring=acc_scorer,cv=10, n_jobs =-1)\n",
        "grid_obj = grid_obj.fit(X_train, y_train)\n",
        "\n",
        "# Pick the best combination of parameters\n",
        "ann_clf = grid_obj.best_estimator_"
      ],
      "execution_count": null,
      "outputs": []
    },
    {
      "cell_type": "code",
      "metadata": {
        "id": "xu6Y7RtBIX1P",
        "colab": {
          "base_uri": "https://localhost:8080/"
        },
        "outputId": "9959d48a-245b-4d90-faaa-dfa3049c70ad"
      },
      "source": [
        "grid_obj.cv_results_"
      ],
      "execution_count": null,
      "outputs": [
        {
          "output_type": "execute_result",
          "data": {
            "text/plain": [
              "{'mean_fit_time': array([0.30724998, 0.59108615, 0.75088115, 2.85496953, 1.21292353,\n",
              "        7.97026324, 2.82802136, 1.20035477, 8.01736295, 0.50611975,\n",
              "        0.10574665, 0.80888243, 0.30271766, 0.62551455, 0.7605881 ,\n",
              "        2.80725474, 0.49492745, 7.98144758, 2.80572419, 0.49013598,\n",
              "        8.13374107, 0.50946944, 0.10044239, 0.78714714]),\n",
              " 'mean_score_time': array([0.0010098 , 0.00098777, 0.00097945, 0.00135553, 0.00143266,\n",
              "        0.00138874, 0.0013988 , 0.0013617 , 0.00140584, 0.00093844,\n",
              "        0.00097833, 0.00093193, 0.00094178, 0.00100985, 0.00094926,\n",
              "        0.00137346, 0.00134411, 0.00141349, 0.00137236, 0.00136943,\n",
              "        0.00137382, 0.00094609, 0.00097919, 0.00091569]),\n",
              " 'mean_test_score': array([0.71839339, 0.66403904, 0.71006006, 0.73168168, 0.67762763,\n",
              "        0.68303303, 0.73168168, 0.67762763, 0.68303303, 0.65322823,\n",
              "        0.7265015 , 0.72364865, 0.71839339, 0.65600601, 0.71006006,\n",
              "        0.73168168, 0.66148649, 0.68033033, 0.73168168, 0.66148649,\n",
              "        0.68033033, 0.65322823, 0.71554054, 0.72364865]),\n",
              " 'param_alpha': masked_array(data=[0.01, 0.01, 0.01, 0.01, 0.01, 0.01, 0.01, 0.01, 0.01,\n",
              "                    0.01, 0.01, 0.01, 0.001, 0.001, 0.001, 0.001, 0.001,\n",
              "                    0.001, 0.001, 0.001, 0.001, 0.001, 0.001, 0.001],\n",
              "              mask=[False, False, False, False, False, False, False, False,\n",
              "                    False, False, False, False, False, False, False, False,\n",
              "                    False, False, False, False, False, False, False, False],\n",
              "        fill_value='?',\n",
              "             dtype=object),\n",
              " 'param_hidden_layer_sizes': masked_array(data=[9, 9, 9, 500, 500, 500, 500, 500, 500, 2, 2, 2, 9, 9,\n",
              "                    9, 500, 500, 500, 500, 500, 500, 2, 2, 2],\n",
              "              mask=[False, False, False, False, False, False, False, False,\n",
              "                    False, False, False, False, False, False, False, False,\n",
              "                    False, False, False, False, False, False, False, False],\n",
              "        fill_value='?',\n",
              "             dtype=object),\n",
              " 'param_random_state': masked_array(data=[1, 1, 1, 1, 1, 1, 1, 1, 1, 1, 1, 1, 1, 1, 1, 1, 1, 1,\n",
              "                    1, 1, 1, 1, 1, 1],\n",
              "              mask=[False, False, False, False, False, False, False, False,\n",
              "                    False, False, False, False, False, False, False, False,\n",
              "                    False, False, False, False, False, False, False, False],\n",
              "        fill_value='?',\n",
              "             dtype=object),\n",
              " 'param_solver': masked_array(data=['sgd', 'lbfgs', 'adam', 'sgd', 'lbfgs', 'adam', 'sgd',\n",
              "                    'lbfgs', 'adam', 'sgd', 'lbfgs', 'adam', 'sgd',\n",
              "                    'lbfgs', 'adam', 'sgd', 'lbfgs', 'adam', 'sgd',\n",
              "                    'lbfgs', 'adam', 'sgd', 'lbfgs', 'adam'],\n",
              "              mask=[False, False, False, False, False, False, False, False,\n",
              "                    False, False, False, False, False, False, False, False,\n",
              "                    False, False, False, False, False, False, False, False],\n",
              "        fill_value='?',\n",
              "             dtype=object),\n",
              " 'params': [{'alpha': 0.01,\n",
              "   'hidden_layer_sizes': 9,\n",
              "   'random_state': 1,\n",
              "   'solver': 'sgd'},\n",
              "  {'alpha': 0.01,\n",
              "   'hidden_layer_sizes': 9,\n",
              "   'random_state': 1,\n",
              "   'solver': 'lbfgs'},\n",
              "  {'alpha': 0.01,\n",
              "   'hidden_layer_sizes': 9,\n",
              "   'random_state': 1,\n",
              "   'solver': 'adam'},\n",
              "  {'alpha': 0.01,\n",
              "   'hidden_layer_sizes': 500,\n",
              "   'random_state': 1,\n",
              "   'solver': 'sgd'},\n",
              "  {'alpha': 0.01,\n",
              "   'hidden_layer_sizes': 500,\n",
              "   'random_state': 1,\n",
              "   'solver': 'lbfgs'},\n",
              "  {'alpha': 0.01,\n",
              "   'hidden_layer_sizes': 500,\n",
              "   'random_state': 1,\n",
              "   'solver': 'adam'},\n",
              "  {'alpha': 0.01,\n",
              "   'hidden_layer_sizes': 500,\n",
              "   'random_state': 1,\n",
              "   'solver': 'sgd'},\n",
              "  {'alpha': 0.01,\n",
              "   'hidden_layer_sizes': 500,\n",
              "   'random_state': 1,\n",
              "   'solver': 'lbfgs'},\n",
              "  {'alpha': 0.01,\n",
              "   'hidden_layer_sizes': 500,\n",
              "   'random_state': 1,\n",
              "   'solver': 'adam'},\n",
              "  {'alpha': 0.01, 'hidden_layer_sizes': 2, 'random_state': 1, 'solver': 'sgd'},\n",
              "  {'alpha': 0.01,\n",
              "   'hidden_layer_sizes': 2,\n",
              "   'random_state': 1,\n",
              "   'solver': 'lbfgs'},\n",
              "  {'alpha': 0.01,\n",
              "   'hidden_layer_sizes': 2,\n",
              "   'random_state': 1,\n",
              "   'solver': 'adam'},\n",
              "  {'alpha': 0.001,\n",
              "   'hidden_layer_sizes': 9,\n",
              "   'random_state': 1,\n",
              "   'solver': 'sgd'},\n",
              "  {'alpha': 0.001,\n",
              "   'hidden_layer_sizes': 9,\n",
              "   'random_state': 1,\n",
              "   'solver': 'lbfgs'},\n",
              "  {'alpha': 0.001,\n",
              "   'hidden_layer_sizes': 9,\n",
              "   'random_state': 1,\n",
              "   'solver': 'adam'},\n",
              "  {'alpha': 0.001,\n",
              "   'hidden_layer_sizes': 500,\n",
              "   'random_state': 1,\n",
              "   'solver': 'sgd'},\n",
              "  {'alpha': 0.001,\n",
              "   'hidden_layer_sizes': 500,\n",
              "   'random_state': 1,\n",
              "   'solver': 'lbfgs'},\n",
              "  {'alpha': 0.001,\n",
              "   'hidden_layer_sizes': 500,\n",
              "   'random_state': 1,\n",
              "   'solver': 'adam'},\n",
              "  {'alpha': 0.001,\n",
              "   'hidden_layer_sizes': 500,\n",
              "   'random_state': 1,\n",
              "   'solver': 'sgd'},\n",
              "  {'alpha': 0.001,\n",
              "   'hidden_layer_sizes': 500,\n",
              "   'random_state': 1,\n",
              "   'solver': 'lbfgs'},\n",
              "  {'alpha': 0.001,\n",
              "   'hidden_layer_sizes': 500,\n",
              "   'random_state': 1,\n",
              "   'solver': 'adam'},\n",
              "  {'alpha': 0.001,\n",
              "   'hidden_layer_sizes': 2,\n",
              "   'random_state': 1,\n",
              "   'solver': 'sgd'},\n",
              "  {'alpha': 0.001,\n",
              "   'hidden_layer_sizes': 2,\n",
              "   'random_state': 1,\n",
              "   'solver': 'lbfgs'},\n",
              "  {'alpha': 0.001,\n",
              "   'hidden_layer_sizes': 2,\n",
              "   'random_state': 1,\n",
              "   'solver': 'adam'}],\n",
              " 'rank_test_score': array([ 8, 19, 11,  1, 17, 13,  1, 17, 13, 23,  5,  6,  8, 22, 11,  1, 20,\n",
              "        15,  1, 20, 15, 23, 10,  6], dtype=int32),\n",
              " 'split0_test_score': array([0.67567568, 0.62162162, 0.78378378, 0.78378378, 0.67567568,\n",
              "        0.7027027 , 0.78378378, 0.67567568, 0.7027027 , 0.67567568,\n",
              "        0.81081081, 0.72972973, 0.67567568, 0.62162162, 0.78378378,\n",
              "        0.78378378, 0.7027027 , 0.7027027 , 0.78378378, 0.7027027 ,\n",
              "        0.7027027 , 0.67567568, 0.81081081, 0.72972973]),\n",
              " 'split1_test_score': array([0.7027027 , 0.56756757, 0.64864865, 0.75675676, 0.72972973,\n",
              "        0.62162162, 0.75675676, 0.72972973, 0.62162162, 0.7027027 ,\n",
              "        0.64864865, 0.7027027 , 0.7027027 , 0.62162162, 0.64864865,\n",
              "        0.75675676, 0.67567568, 0.62162162, 0.75675676, 0.67567568,\n",
              "        0.62162162, 0.7027027 , 0.64864865, 0.7027027 ]),\n",
              " 'split2_test_score': array([0.75675676, 0.7027027 , 0.7027027 , 0.7027027 , 0.67567568,\n",
              "        0.64864865, 0.7027027 , 0.67567568, 0.64864865, 0.59459459,\n",
              "        0.64864865, 0.64864865, 0.75675676, 0.56756757, 0.7027027 ,\n",
              "        0.7027027 , 0.62162162, 0.64864865, 0.7027027 , 0.62162162,\n",
              "        0.64864865, 0.59459459, 0.62162162, 0.64864865]),\n",
              " 'split3_test_score': array([0.75675676, 0.64864865, 0.75675676, 0.78378378, 0.75675676,\n",
              "        0.75675676, 0.78378378, 0.75675676, 0.75675676, 0.67567568,\n",
              "        0.75675676, 0.78378378, 0.75675676, 0.75675676, 0.75675676,\n",
              "        0.78378378, 0.75675676, 0.75675676, 0.78378378, 0.75675676,\n",
              "        0.75675676, 0.67567568, 0.72972973, 0.78378378]),\n",
              " 'split4_test_score': array([0.62162162, 0.56756757, 0.59459459, 0.62162162, 0.56756757,\n",
              "        0.62162162, 0.62162162, 0.56756757, 0.62162162, 0.62162162,\n",
              "        0.67567568, 0.62162162, 0.62162162, 0.56756757, 0.59459459,\n",
              "        0.62162162, 0.54054054, 0.62162162, 0.62162162, 0.54054054,\n",
              "        0.62162162, 0.62162162, 0.64864865, 0.62162162]),\n",
              " 'split5_test_score': array([0.72972973, 0.7027027 , 0.7027027 , 0.72972973, 0.67567568,\n",
              "        0.67567568, 0.72972973, 0.67567568, 0.67567568, 0.67567568,\n",
              "        0.78378378, 0.81081081, 0.72972973, 0.72972973, 0.7027027 ,\n",
              "        0.72972973, 0.64864865, 0.67567568, 0.72972973, 0.64864865,\n",
              "        0.67567568, 0.67567568, 0.78378378, 0.81081081]),\n",
              " 'split6_test_score': array([0.64864865, 0.67567568, 0.67567568, 0.72972973, 0.62162162,\n",
              "        0.67567568, 0.72972973, 0.62162162, 0.67567568, 0.59459459,\n",
              "        0.78378378, 0.72972973, 0.64864865, 0.62162162, 0.67567568,\n",
              "        0.72972973, 0.67567568, 0.64864865, 0.72972973, 0.67567568,\n",
              "        0.64864865, 0.59459459, 0.78378378, 0.72972973]),\n",
              " 'split7_test_score': array([0.75675676, 0.64864865, 0.81081081, 0.72972973, 0.67567568,\n",
              "        0.7027027 , 0.72972973, 0.67567568, 0.7027027 , 0.64864865,\n",
              "        0.72972973, 0.78378378, 0.75675676, 0.62162162, 0.81081081,\n",
              "        0.72972973, 0.59459459, 0.7027027 , 0.72972973, 0.59459459,\n",
              "        0.7027027 , 0.64864865, 0.75675676, 0.78378378]),\n",
              " 'split8_test_score': array([0.72972973, 0.81081081, 0.7027027 , 0.75675676, 0.67567568,\n",
              "        0.7027027 , 0.75675676, 0.67567568, 0.7027027 , 0.64864865,\n",
              "        0.62162162, 0.67567568, 0.72972973, 0.72972973, 0.7027027 ,\n",
              "        0.75675676, 0.64864865, 0.7027027 , 0.75675676, 0.64864865,\n",
              "        0.7027027 , 0.64864865, 0.62162162, 0.67567568]),\n",
              " 'split9_test_score': array([0.80555556, 0.69444444, 0.72222222, 0.72222222, 0.72222222,\n",
              "        0.72222222, 0.72222222, 0.72222222, 0.72222222, 0.69444444,\n",
              "        0.80555556, 0.75      , 0.80555556, 0.72222222, 0.72222222,\n",
              "        0.72222222, 0.75      , 0.72222222, 0.72222222, 0.75      ,\n",
              "        0.72222222, 0.69444444, 0.75      , 0.75      ]),\n",
              " 'std_fit_time': array([0.0146909 , 0.15981953, 0.28894515, 0.10518982, 0.12300979,\n",
              "        0.28177391, 0.10895317, 0.11717633, 0.21832752, 0.10981204,\n",
              "        0.03855542, 0.11440503, 0.01931304, 0.23063219, 0.30135003,\n",
              "        0.10949121, 0.04869952, 0.19526868, 0.09533595, 0.04499602,\n",
              "        0.2271684 , 0.11324421, 0.02259413, 0.12458039]),\n",
              " 'std_score_time': array([1.21645131e-04, 2.74543937e-05, 4.57008616e-05, 5.25225091e-05,\n",
              "        6.45434807e-05, 8.62164438e-05, 8.92890152e-05, 7.57761011e-05,\n",
              "        7.60686237e-05, 1.09804375e-05, 1.01602127e-05, 2.58907209e-05,\n",
              "        1.66979665e-05, 5.13524176e-05, 2.36859589e-05, 5.11987509e-05,\n",
              "        7.24043271e-05, 8.86883274e-05, 1.01520997e-04, 8.14465784e-05,\n",
              "        5.59740412e-05, 5.81546657e-05, 1.20083465e-05, 9.96418561e-05]),\n",
              " 'std_test_score': array([0.05345055, 0.06817482, 0.0603015 , 0.04443049, 0.05121881,\n",
              "        0.04118852, 0.04443049, 0.05121881, 0.04118852, 0.03684412,\n",
              "        0.06822838, 0.05862825, 0.05345055, 0.0676591 , 0.0603015 ,\n",
              "        0.04443049, 0.06327226, 0.04245003, 0.04443049, 0.06327226,\n",
              "        0.04245003, 0.03684412, 0.0693317 , 0.05862825])}"
            ]
          },
          "metadata": {
            "tags": []
          },
          "execution_count": 40
        }
      ]
    },
    {
      "cell_type": "code",
      "metadata": {
        "id": "2eQ50sikGCdA",
        "colab": {
          "base_uri": "https://localhost:8080/"
        },
        "outputId": "63e29b99-6a9a-4cc3-b495-ffe6cfa8a928"
      },
      "source": [
        "# Fit the best algorithm to the data \n",
        "ann_clf.fit(X_train, y_train)"
      ],
      "execution_count": null,
      "outputs": [
        {
          "output_type": "execute_result",
          "data": {
            "text/plain": [
              "MLPClassifier(activation='relu', alpha=0.01, batch_size='auto', beta_1=0.9,\n",
              "              beta_2=0.999, early_stopping=False, epsilon=1e-08,\n",
              "              hidden_layer_sizes=500, learning_rate='constant',\n",
              "              learning_rate_init=0.001, max_fun=15000, max_iter=150000,\n",
              "              momentum=0.9, n_iter_no_change=10, nesterovs_momentum=True,\n",
              "              power_t=0.5, random_state=1, shuffle=True, solver='sgd',\n",
              "              tol=0.0001, validation_fraction=0.1, verbose=False,\n",
              "              warm_start=False)"
            ]
          },
          "metadata": {
            "tags": []
          },
          "execution_count": 22
        }
      ]
    },
    {
      "cell_type": "code",
      "metadata": {
        "id": "0qZucgD6VtKB"
      },
      "source": [
        "y_pred_ann = ann_clf.predict(X_test)"
      ],
      "execution_count": null,
      "outputs": []
    },
    {
      "cell_type": "code",
      "metadata": {
        "id": "D_S2O5jjV0hL",
        "colab": {
          "base_uri": "https://localhost:8080/"
        },
        "outputId": "f69e0dde-c687-49ce-b438-3134b129af99"
      },
      "source": [
        "# Making the Confusion Matrix\n",
        "from sklearn.metrics import confusion_matrix\n",
        "cm_ann = confusion_matrix(y_test, y_pred_ann)\n",
        "cm_ann"
      ],
      "execution_count": null,
      "outputs": [
        {
          "output_type": "execute_result",
          "data": {
            "text/plain": [
              "array([[51,  9],\n",
              "       [16, 17]])"
            ]
          },
          "metadata": {
            "tags": []
          },
          "execution_count": 24
        }
      ]
    },
    {
      "cell_type": "code",
      "metadata": {
        "id": "_ZPX-0Y9fSIv",
        "colab": {
          "base_uri": "https://localhost:8080/"
        },
        "outputId": "e1d8268d-5301-461f-febb-1842f6ff44c9"
      },
      "source": [
        "y_pred_train = ann_clf.predict(X_train)\n",
        "acc_train = accuracy_score(y_train, y_pred_train)\n",
        "acc_train*100"
      ],
      "execution_count": null,
      "outputs": [
        {
          "output_type": "execute_result",
          "data": {
            "text/plain": [
              "75.88075880758808"
            ]
          },
          "metadata": {
            "tags": []
          },
          "execution_count": 25
        }
      ]
    },
    {
      "cell_type": "code",
      "metadata": {
        "id": "7MWo7BRxWJ5L",
        "colab": {
          "base_uri": "https://localhost:8080/"
        },
        "outputId": "8e398fc2-8953-4691-df4d-92b570399fb2"
      },
      "source": [
        "ann_result = accuracy_score(y_test,y_pred_ann)\n",
        "ann_result*100"
      ],
      "execution_count": null,
      "outputs": [
        {
          "output_type": "execute_result",
          "data": {
            "text/plain": [
              "73.11827956989248"
            ]
          },
          "metadata": {
            "tags": []
          },
          "execution_count": 26
        }
      ]
    },
    {
      "cell_type": "code",
      "metadata": {
        "id": "C2-TTeRMWN7Z",
        "colab": {
          "base_uri": "https://localhost:8080/"
        },
        "outputId": "69389809-4b22-44b4-ef99-977c78a25388"
      },
      "source": [
        "recall_ann = cm_ann[0][0]/(cm_ann[0][0] + cm_ann[0][1])\n",
        "precision_ann = cm_ann[0][0]/(cm_ann[0][0]+cm_ann[1][1])\n",
        "recall_ann*100,precision_ann*100"
      ],
      "execution_count": null,
      "outputs": [
        {
          "output_type": "execute_result",
          "data": {
            "text/plain": [
              "(85.0, 75.0)"
            ]
          },
          "metadata": {
            "tags": []
          },
          "execution_count": 27
        }
      ]
    },
    {
      "cell_type": "code",
      "metadata": {
        "id": "TQSMx8UVisoU",
        "colab": {
          "base_uri": "https://localhost:8080/",
          "height": 284
        },
        "outputId": "0ce0508e-9448-4ef0-b8e2-9cf1251d4db9"
      },
      "source": [
        "import matplotlib.pyplot as plt\n",
        "loss_values = ann_clf.loss_curve_\n",
        "plt.plot(loss_values)\n",
        "plt.title('Loss Curve')\n",
        "plt.show()"
      ],
      "execution_count": null,
      "outputs": [
        {
          "output_type": "display_data",
          "data": {
            "image/png": "[encoded data removed]",
            "text/plain": [
              "<Figure size 432x288 with 1 Axes>"
            ]
          },
          "metadata": {
            "tags": []
          }
        }
      ]
    },
    {
      "cell_type": "code",
      "metadata": {
        "id": "b2iOijmtjB6W",
        "colab": {
          "base_uri": "https://localhost:8080/",
          "height": 773
        },
        "outputId": "05f366d5-0543-40c3-ed13-980cbed21747"
      },
      "source": [
        "max_epochs = 3501\n",
        "train_acc = []\n",
        "test_acc = []\n",
        "x = []\n",
        "i = 500\n",
        "while i < max_epochs:\n",
        "  clf = MLPClassifier(hidden_layer_sizes=(500,500,), activation='relu', solver='sgd',alpha=0.0001, batch_size=128, learning_rate='constant', learning_rate_init=0.001, \n",
        "                     max_iter=i,shuffle=True, random_state=None, tol=0.0001, verbose=False, n_iter_no_change=10)\n",
        "  clf.fit(X_train, y_train)\n",
        "  y_pred = clf.predict(X_test)\n",
        "  y_pred_train = clf.predict(X_train)\n",
        "  acc_train = accuracy_score(y_train, y_pred_train)\n",
        "  train_acc.append(acc_train)\n",
        "  acc_test = accuracy_score(y_test, y_pred)\n",
        "  test_acc.append(acc_test)\n",
        "  x.append(i)\n",
        "  i+=500\n",
        "\n",
        "plt.plot(x,train_acc)\n",
        "plt.title('Training Accuracy')\n",
        "plt.show()\n",
        "plt.plot(x,test_acc)\n",
        "plt.title('Test Accuracy')\n",
        "plt.show()"
      ],
      "execution_count": null,
      "outputs": [
        {
          "output_type": "stream",
          "text": [
            "/usr/local/lib/python3.6/dist-packages/sklearn/neural_network/_multilayer_perceptron.py:571: ConvergenceWarning: Stochastic Optimizer: Maximum iterations (500) reached and the optimization hasn't converged yet.\n",
            "  % self.max_iter, ConvergenceWarning)\n",
            "/usr/local/lib/python3.6/dist-packages/sklearn/neural_network/_multilayer_perceptron.py:571: ConvergenceWarning: Stochastic Optimizer: Maximum iterations (1000) reached and the optimization hasn't converged yet.\n",
            "  % self.max_iter, ConvergenceWarning)\n",
            "/usr/local/lib/python3.6/dist-packages/sklearn/neural_network/_multilayer_perceptron.py:571: ConvergenceWarning: Stochastic Optimizer: Maximum iterations (1500) reached and the optimization hasn't converged yet.\n",
            "  % self.max_iter, ConvergenceWarning)\n",
            "/usr/local/lib/python3.6/dist-packages/sklearn/neural_network/_multilayer_perceptron.py:571: ConvergenceWarning: Stochastic Optimizer: Maximum iterations (2500) reached and the optimization hasn't converged yet.\n",
            "  % self.max_iter, ConvergenceWarning)\n",
            "/usr/local/lib/python3.6/dist-packages/sklearn/neural_network/_multilayer_perceptron.py:571: ConvergenceWarning: Stochastic Optimizer: Maximum iterations (3000) reached and the optimization hasn't converged yet.\n",
            "  % self.max_iter, ConvergenceWarning)\n",
            "/usr/local/lib/python3.6/dist-packages/sklearn/neural_network/_multilayer_perceptron.py:571: ConvergenceWarning: Stochastic Optimizer: Maximum iterations (3500) reached and the optimization hasn't converged yet.\n",
            "  % self.max_iter, ConvergenceWarning)\n"
          ],
          "name": "stderr"
        },
        {
          "output_type": "display_data",
          "data": {
            "image/png": "[encoded data removed]",
            "text/plain": [
              "<Figure size 432x288 with 1 Axes>"
            ]
          },
          "metadata": {
            "tags": []
          }
        },
        {
          "output_type": "display_data",
          "data": {
            "image/png": "[encoded data removed]",
            "text/plain": [
              "<Figure size 432x288 with 1 Axes>"
            ]
          },
          "metadata": {
            "tags": []
          }
        }
      ]
    },
    {
      "cell_type": "code",
      "metadata": {
        "id": "R0AJg6ZrsjD0",
        "colab": {
          "base_uri": "https://localhost:8080/",
          "height": 284
        },
        "outputId": "33323a88-47c0-4e53-ed25-32801abc4f24"
      },
      "source": [
        "max_epochs = 3501\n",
        "train_acc = []\n",
        "test_acc = []\n",
        "x = []\n",
        "i = 500\n",
        "while i < max_epochs:\n",
        "  clf = MLPClassifier(hidden_layer_sizes=(500,500,), activation='relu', solver='lbfgs',alpha=0.0001, batch_size=128, learning_rate='adaptive', learning_rate_init=0.001, \n",
        "                     max_iter=i,shuffle=True, random_state=None, tol=0.0001, verbose=False, n_iter_no_change=10)\n",
        "  clf.fit(X_train, y_train)\n",
        "  y_pred = clf.predict(X_test)\n",
        "  y_pred_train = clf.predict(X_train)\n",
        "  acc_train = accuracy_score(y_train, y_pred_train)\n",
        "  train_acc.append(acc_train)\n",
        "  acc_test = accuracy_score(y_test, y_pred)\n",
        "  test_acc.append(acc_test)\n",
        "  x.append(i)\n",
        "  i+=500\n",
        "\n",
        "plt.plot(x,test_acc)\n",
        "plt.title('Test Accuracy')\n",
        "plt.show()"
      ],
      "execution_count": null,
      "outputs": [
        {
          "output_type": "display_data",
          "data": {
            "image/png": "[encoded data removed]",
            "text/plain": [
              "<Figure size 432x288 with 1 Axes>"
            ]
          },
          "metadata": {
            "tags": []
          }
        }
      ]
    },
    {
      "cell_type": "code",
      "metadata": {
        "id": "Dozrd-s83lmB",
        "colab": {
          "base_uri": "https://localhost:8080/",
          "height": 284
        },
        "outputId": "ca82706a-eb7e-482a-ce0c-a5ff9a104fab"
      },
      "source": [
        "max_epochs = 3501\n",
        "train_acc = []\n",
        "test_acc = []\n",
        "x = []\n",
        "i = 500\n",
        "while i < max_epochs:\n",
        "  clf = MLPClassifier(hidden_layer_sizes=(500,500,), activation='relu', solver='adam',alpha=0.0001, batch_size=128, learning_rate='adaptive', learning_rate_init=0.001, \n",
        "                     max_iter=i,shuffle=True, random_state=None, tol=0.0001, verbose=False, n_iter_no_change=10)\n",
        "  clf.fit(X_train, y_train)\n",
        "  y_pred = clf.predict(X_test)\n",
        "  y_pred_train = clf.predict(X_train)\n",
        "  acc_train = accuracy_score(y_train, y_pred_train)\n",
        "  train_acc.append(acc_train)\n",
        "  acc_test = accuracy_score(y_test, y_pred)\n",
        "  test_acc.append(acc_test)\n",
        "  x.append(i)\n",
        "  i+=500\n",
        "\n",
        "plt.plot(x,test_acc)\n",
        "plt.title('Test Accuracy')\n",
        "plt.show()"
      ],
      "execution_count": null,
      "outputs": [
        {
          "output_type": "display_data",
          "data": {
            "image/png": "[encoded data removed]",
            "text/plain": [
              "<Figure size 432x288 with 1 Axes>"
            ]
          },
          "metadata": {
            "tags": []
          }
        }
      ]
    },
    {
      "cell_type": "code",
      "metadata": {
        "id": "2r5c14Hm34q1",
        "colab": {
          "base_uri": "https://localhost:8080/",
          "height": 284
        },
        "outputId": "3a4fe2e3-1853-43a6-ab0c-b0d0e9aff8a7"
      },
      "source": [
        "max_epochs = 3501\n",
        "train_acc = []\n",
        "test_acc = []\n",
        "x = []\n",
        "i = 500\n",
        "while i < max_epochs:\n",
        "  clf = MLPClassifier(hidden_layer_sizes=(500,500,), activation='tanh', solver='sgd',alpha=0.0001, batch_size=128, learning_rate='adaptive', learning_rate_init=0.001, \n",
        "                     max_iter=i,shuffle=True, random_state=None, tol=0.0001, verbose=False, n_iter_no_change=10)\n",
        "  clf.fit(X_train, y_train)\n",
        "  y_pred = clf.predict(X_test)\n",
        "  y_pred_train = clf.predict(X_train)\n",
        "  acc_train = accuracy_score(y_train, y_pred_train)\n",
        "  train_acc.append(acc_train)\n",
        "  acc_test = accuracy_score(y_test, y_pred)\n",
        "  test_acc.append(acc_test)\n",
        "  x.append(i)\n",
        "  i+=500\n",
        "\n",
        "plt.plot(x,test_acc)\n",
        "plt.title('Test Accuracy')\n",
        "plt.show()"
      ],
      "execution_count": null,
      "outputs": [
        {
          "output_type": "display_data",
          "data": {
            "image/png": "[encoded data removed]",
            "text/plain": [
              "<Figure size 432x288 with 1 Axes>"
            ]
          },
          "metadata": {
            "tags": []
          }
        }
      ]
    },
    {
      "cell_type": "code",
      "metadata": {
        "id": "Td5x2YkA4KQI",
        "colab": {
          "base_uri": "https://localhost:8080/",
          "height": 284
        },
        "outputId": "9b2ec544-16d1-46ce-8315-4f0a66d53c41"
      },
      "source": [
        "max_epochs = 3501\n",
        "train_acc = []\n",
        "test_acc = []\n",
        "x = []\n",
        "i = 500\n",
        "while i < max_epochs:\n",
        "  clf = MLPClassifier(hidden_layer_sizes=(500,500,), activation='tanh', solver='lbfgs',alpha=0.0001, batch_size=128, learning_rate='constant', learning_rate_init=0.001, \n",
        "                     max_iter=i,shuffle=True, random_state=None, tol=0.0001, verbose=False, n_iter_no_change=10)\n",
        "  clf.fit(X_train, y_train)\n",
        "  y_pred = clf.predict(X_test)\n",
        "  y_pred_train = clf.predict(X_train)\n",
        "  acc_train = accuracy_score(y_train, y_pred_train)\n",
        "  train_acc.append(acc_train)\n",
        "  acc_test = accuracy_score(y_test, y_pred)\n",
        "  test_acc.append(acc_test)\n",
        "  x.append(i)\n",
        "  i+=500\n",
        "\n",
        "plt.plot(x,test_acc)\n",
        "plt.title('Test Accuracy')\n",
        "plt.show()"
      ],
      "execution_count": null,
      "outputs": [
        {
          "output_type": "display_data",
          "data": {
            "image/png": "[encoded data removed]",
            "text/plain": [
              "<Figure size 432x288 with 1 Axes>"
            ]
          },
          "metadata": {
            "tags": []
          }
        }
      ]
    },
    {
      "cell_type": "code",
      "metadata": {
        "id": "5CYztmEK4TA3",
        "colab": {
          "base_uri": "https://localhost:8080/",
          "height": 284
        },
        "outputId": "9439630a-487a-409e-9d60-f8ff99ea7651"
      },
      "source": [
        "max_epochs = 3501\n",
        "train_acc = []\n",
        "test_acc = []\n",
        "x = []\n",
        "i = 500\n",
        "while i < max_epochs:\n",
        "  clf = MLPClassifier(hidden_layer_sizes=(500,500,), activation='tanh', solver='adam',alpha=0.0001, batch_size=128, learning_rate='adaptive', learning_rate_init=0.001, \n",
        "                     max_iter=i,shuffle=True, random_state=None, tol=0.0001, verbose=False, n_iter_no_change=10)\n",
        "  clf.fit(X_train, y_train)\n",
        "  y_pred = clf.predict(X_test)\n",
        "  y_pred_train = clf.predict(X_train)\n",
        "  acc_train = accuracy_score(y_train, y_pred_train)\n",
        "  train_acc.append(acc_train)\n",
        "  acc_test = accuracy_score(y_test, y_pred)\n",
        "  test_acc.append(acc_test)\n",
        "  x.append(i)\n",
        "  i+=500\n",
        "\n",
        "plt.plot(x,test_acc)\n",
        "plt.title('Test Accuracy')\n",
        "plt.show()"
      ],
      "execution_count": null,
      "outputs": [
        {
          "output_type": "display_data",
          "data": {
            "image/png": "[encoded data removed]",
            "text/plain": [
              "<Figure size 432x288 with 1 Axes>"
            ]
          },
          "metadata": {
            "tags": []
          }
        }
      ]
    }
  ]
}